{
 "cells": [
  {
   "cell_type": "code",
   "execution_count": 1,
   "metadata": {},
   "outputs": [],
   "source": [
    "# Useful starting lines\n",
    "%matplotlib inline\n",
    "import numpy as np\n",
    "import matplotlib.pyplot as plt\n",
    "%load_ext autoreload\n",
    "%autoreload 2"
   ]
  },
  {
   "cell_type": "markdown",
   "metadata": {},
   "source": [
    "# 1 Least squares and linear basis functions models\n",
    "## 1.1 Least squares"
   ]
  },
  {
   "cell_type": "code",
   "execution_count": 28,
   "metadata": {},
   "outputs": [],
   "source": [
    "from costs import *\n",
    "from grid_search import *\n",
    "def least_squares(y, tx):\n",
    "    \"\"\"calculate the least squares solution.\"\"\"\n",
    "    # ***************************************************\n",
    "    a = np.matmul(np.transpose(tx),tx)\n",
    "    b = np.matmul(np.transpose(tx),y)\n",
    "    w = np.linalg.solve(a,b)\n",
    "    MSE = compute_loss(y, tx, w)\n",
    "    return MSE, w\n",
    "    # ***************************************************\n",
    "    raise NotImplementedError"
   ]
  },
  {
   "cell_type": "markdown",
   "metadata": {},
   "source": [
    "### Load the data\n",
    "Here we will reuse the dataset `height_weight_genders.csv` from previous exercise section to check the correctness of your implementation. Please compare it with your previous result."
   ]
  },
  {
   "cell_type": "code",
   "execution_count": 29,
   "metadata": {},
   "outputs": [],
   "source": [
    "from helpers import *\n",
    "def test_your_least_squares():\n",
    "    height, weight, gender = load_data_from_ex02(sub_sample=False, add_outlier=False)\n",
    "    x, mean_x, std_x = standardize(height)\n",
    "    y, tx = build_model_data(x, weight)\n",
    "    # ***************************************************\n",
    "    #grid search\n",
    "    w0, w1 = generate_w(100)\n",
    "    losses = grid_search(y, tx, w0, w1)\n",
    "    loss_star, w0_star, w1_star = get_best_parameters(w0, w1, losses)\n",
    "    \n",
    "    #least squares\n",
    "    MSE, w = least_squares(y, tx)\n",
    "    print('least squares w = :',w, '\\n')\n",
    "    print('grid search w = :',w0_star, w1_star)\n",
    "    # ***************************************************\n",
    "    #raise NotImplementedError"
   ]
  },
  {
   "cell_type": "markdown",
   "metadata": {},
   "source": [
    "Test it here"
   ]
  },
  {
   "cell_type": "code",
   "execution_count": 30,
   "metadata": {},
   "outputs": [
    {
     "name": "stdout",
     "output_type": "stream",
     "text": [
      "least squares w = : [73.293922   13.47971243] \n",
      "\n",
      "grid search w = : 72.72727272727272 13.636363636363626\n"
     ]
    }
   ],
   "source": [
    "test_your_least_squares()"
   ]
  },
  {
   "cell_type": "markdown",
   "metadata": {},
   "source": [
    "## 1.2 Least squares with a linear basis function model\n",
    "Start from this section, we will use the dataset `dataEx3.csv`.\n",
    "\n",
    "### Implement polynomial basis functions"
   ]
  },
  {
   "cell_type": "code",
   "execution_count": 31,
   "metadata": {
    "scrolled": true
   },
   "outputs": [
    {
     "name": "stdout",
     "output_type": "stream",
     "text": [
      "shape of x (50,)\n",
      "shape of y (50,)\n"
     ]
    }
   ],
   "source": [
    "# load dataset\n",
    "x, y = load_data()\n",
    "print(\"shape of x {}\".format(x.shape))\n",
    "print(\"shape of y {}\".format(y.shape))"
   ]
  },
  {
   "cell_type": "code",
   "execution_count": 32,
   "metadata": {},
   "outputs": [],
   "source": [
    "def build_poly(x, degree):\n",
    "    \"\"\"polynomial basis functions for input data x, for j=0 up to j=degree.\"\"\"\n",
    "    # ***************************************************\n",
    "    phi = np.zeros((degree+1, len(x)))\n",
    "    for i in range(degree+1):\n",
    "        phi[i] = x**i\n",
    "    return phi\n",
    "    # ***************************************************\n",
    "    raise NotImplementedError"
   ]
  },
  {
   "cell_type": "code",
   "execution_count": 33,
   "metadata": {},
   "outputs": [
    {
     "name": "stdout",
     "output_type": "stream",
     "text": [
      "[[ 1.  1.  1.  1.]\n",
      " [ 1.  2.  3.  4.]\n",
      " [ 1.  4.  9. 16.]\n",
      " [ 1.  8. 27. 64.]]\n"
     ]
    }
   ],
   "source": [
    "datatest = np.asarray([1,2,3,4])\n",
    "print(build_poly(datatest,3))"
   ]
  },
  {
   "cell_type": "markdown",
   "metadata": {},
   "source": [
    "Let us play with polynomial regression. Note that we will use your implemented function `compute_mse`. Please copy and paste your implementation from exercise02."
   ]
  },
  {
   "cell_type": "code",
   "execution_count": 34,
   "metadata": {},
   "outputs": [],
   "source": [
    "from plots import *\n",
    "\n",
    "def polynomial_regression():\n",
    "    \"\"\"Constructing the polynomial basis function expansion of the data,\n",
    "       and then running least squares regression.\"\"\"\n",
    "    # define parameters\n",
    "    degrees = [1, 3, 7, 12]\n",
    "    \n",
    "    # define the structure of the figure\n",
    "    num_row = 2\n",
    "    num_col = 2\n",
    "    f, axs = plt.subplots(num_row, num_col)\n",
    "\n",
    "    for ind, degree in enumerate(degrees):\n",
    "        # ***************************************************\n",
    "        x, y = load_data()\n",
    "        phi = build_poly(x, degree)\n",
    "        # INSERT YOUR CODE HERE\n",
    "        # form the data to do polynomial regression.: TODO\n",
    "        # ***************************************************\n",
    "        #raise NotImplementedError\n",
    "        # ***************************************************\n",
    "        mse, weights = least_squares(y, phi)\n",
    "        rmse = np.sqrt(2*mse)\n",
    "        # ***************************************************\n",
    "        #raise NotImplementedError\n",
    "\n",
    "        print(\"Processing {i}th experiment, degree={d}, rmse={loss}\".format(\n",
    "              i=ind + 1, d=degree, loss=rmse))\n",
    "        # plot fit\n",
    "        plot_fitted_curve(\n",
    "            y, x, weights, degree, axs[ind // num_col][ind % num_col])\n",
    "    plt.tight_layout()\n",
    "    plt.savefig(\"visualize_polynomial_regression\")\n",
    "    plt.show()"
   ]
  },
  {
   "cell_type": "markdown",
   "metadata": {},
   "source": [
    "Run polynomial regression"
   ]
  },
  {
   "cell_type": "code",
   "execution_count": 35,
   "metadata": {},
   "outputs": [
    {
     "name": "stdout",
     "output_type": "stream",
     "text": [
      "Processing 1th experiment, degree=1, rmse=0.47187607963421874\n",
      "Processing 2th experiment, degree=3, rmse=0.25858277667737484\n",
      "Processing 3th experiment, degree=7, rmse=0.24965870360907327\n",
      "Processing 4th experiment, degree=12, rmse=0.24328247483727994\n"
     ]
    },
    {
     "data": {
      "image/png": "[encoded data removed]",
      "text/plain": [
       "<Figure size 432x288 with 4 Axes>"
      ]
     },
     "metadata": {
      "needs_background": "light"
     },
     "output_type": "display_data"
    }
   ],
   "source": [
    "polynomial_regression()"
   ]
  },
  {
   "cell_type": "markdown",
   "metadata": {},
   "source": [
    "# 2 Evaluating model predication performance\n",
    "\n",
    "\n",
    "Let us show the train and test splits for various polynomial degrees. First of all, please fill in the function `split_data()`"
   ]
  },
  {
   "cell_type": "code",
   "execution_count": 36,
   "metadata": {},
   "outputs": [],
   "source": [
    "def split_data(x, y, ratio, seed=1):\n",
    "    \"\"\"\n",
    "    split the dataset based on the split ratio. If ratio is 0.8 \n",
    "    you will have 80% of your data set dedicated to training \n",
    "    and the rest dedicated to testing\n",
    "    \"\"\"\n",
    "    # set seed\n",
    "    np.random.seed(seed)\n",
    "    # ***************************************************\n",
    "    part = int(np.rint(ratio*len(y)))\n",
    "    ind = np.linspace(0,len(y)-1,len(y),dtype=np.int16)\n",
    "    trainind = np.random.choice(ind,part,replace=False)\n",
    "    trainx = x[trainind]\n",
    "    trainy = y[trainind]\n",
    "    testx = np.delete(x,trainind)\n",
    "    testy = np.delete(y,trainind)\n",
    "    return trainx,trainy,testx,testy\n",
    "    # INSERT YOUR CODE HERE\n",
    "    # split the data based on the given ratio: TODO\n",
    "    # ***************************************************\n",
    "    raise NotImplementedError"
   ]
  },
  {
   "cell_type": "markdown",
   "metadata": {},
   "source": [
    "Then, test your `split_data` function below."
   ]
  },
  {
   "cell_type": "code",
   "execution_count": 37,
   "metadata": {},
   "outputs": [],
   "source": [
    "def train_test_split_demo(x, y, degree, ratio, seed):\n",
    "    \"\"\"polynomial regression with different split ratios and different degrees.\"\"\"\n",
    "    # ***************************************************\n",
    "    trainx,trainy,testx,testy = split_data(x, y, ratio)\n",
    "    # ***************************************************\n",
    "    #raise NotImplementedError\n",
    "    # ***************************************************\n",
    "    phitrain = build_poly(trainx, degree)\n",
    "    phitest = build_poly(testx, degree)\n",
    "    # ***************************************************\n",
    "    #raise NotImplementedError\n",
    "    # ***************************************************\n",
    "    msetr, weights = least_squares(trainy, phitrain)\n",
    "    # INSERT YOUR CODE HERE\n",
    "    # calcualte weight through least square.: TODO\n",
    "    # ***************************************************\n",
    "    #raise NotImplementedError\n",
    "    # ***************************************************\n",
    "    rmse_tr = np.sqrt(2*msetr)\n",
    "    rmse_te = np.sqrt(2*compute_loss(testy, phitest, weights))\n",
    "    # INSERT YOUR CODE HERE\n",
    "    # calculate RMSE for train and test data,\n",
    "    # and store them in rmse_tr and rmse_te respectively: TODO\n",
    "    # ***************************************************\n",
    "    #raise NotImplementedError\n",
    "    print(\"proportion={p}, degree={d}, Training RMSE={tr:.3f}, Testing RMSE={te:.3f}\".format(\n",
    "          p=ratio, d=degree, tr=rmse_tr, te=rmse_te))\n"
   ]
  },
  {
   "cell_type": "code",
   "execution_count": 38,
   "metadata": {},
   "outputs": [
    {
     "name": "stdout",
     "output_type": "stream",
     "text": [
      "proportion=0.9, degree=1, Training RMSE=0.455, Testing RMSE=0.621\n",
      "proportion=0.9, degree=3, Training RMSE=0.264, Testing RMSE=0.214\n",
      "proportion=0.9, degree=7, Training RMSE=0.257, Testing RMSE=0.189\n",
      "proportion=0.9, degree=12, Training RMSE=0.248, Testing RMSE=0.219\n",
      "proportion=0.5, degree=1, Training RMSE=0.400, Testing RMSE=0.553\n",
      "proportion=0.5, degree=3, Training RMSE=0.237, Testing RMSE=0.306\n",
      "proportion=0.5, degree=7, Training RMSE=0.218, Testing RMSE=0.336\n",
      "proportion=0.5, degree=12, Training RMSE=0.213, Testing RMSE=0.350\n",
      "proportion=0.1, degree=1, Training RMSE=0.453, Testing RMSE=0.748\n",
      "proportion=0.1, degree=3, Training RMSE=0.111, Testing RMSE=0.674\n",
      "proportion=0.1, degree=7, Training RMSE=0.000, Testing RMSE=1.335\n",
      "proportion=0.1, degree=12, Training RMSE=0.000, Testing RMSE=2.908\n"
     ]
    }
   ],
   "source": [
    "seed = 6\n",
    "degrees = [1, 3, 7, 12]\n",
    "split_ratios = [0.9, 0.5, 0.1]\n",
    "\n",
    "for split_ratio in split_ratios:\n",
    "    for degree in degrees:\n",
    "        train_test_split_demo(x, y, degree, split_ratio, seed)"
   ]
  },
  {
   "cell_type": "markdown",
   "metadata": {},
   "source": [
    "# 3 Ridge Regression\n",
    "Please fill in the function below."
   ]
  },
  {
   "cell_type": "code",
   "execution_count": 41,
   "metadata": {},
   "outputs": [],
   "source": [
    "def ridge_regression(y, tx, lambda_):\n",
    "    \"\"\"implement ridge regression.\"\"\"\n",
    "    # ***************************************************\n",
    "    a = np.matmul(np.transpose(tx),tx)+lambda_*np.eye(tx.shape[1])\n",
    "    b = np.matmul(np.transpose(tx),y)\n",
    "    w = np.linalg.solve(a,b)\n",
    "    #mul = np.matmul(np.transpose(tx),tx)+lambda_*np.eye(tx.shape[1])\n",
    "    #inv = np.linalg.inv(mul)\n",
    "    #w = np.matmul(np.matmul(inv,np.transpose(tx)),y)\n",
    "    MSE = compute_loss(y, tx, w)\n",
    "    return MSE,w\n",
    "    # ***************************************************\n",
    "    raise NotImplementedError"
   ]
  },
  {
   "cell_type": "code",
   "execution_count": 42,
   "metadata": {},
   "outputs": [
    {
     "name": "stdout",
     "output_type": "stream",
     "text": [
      "(15.385915631784782, array([73.28659334, 13.4783646 ]))\n"
     ]
    }
   ],
   "source": [
    "#testing ridge implementation\n",
    "height, weight, gender = load_data_from_ex02(sub_sample=False, add_outlier=False)\n",
    "x, mean_x, std_x = standardize(height)\n",
    "y, tx = build_model_data(x, weight)\n",
    "\n",
    "print(ridge_regression(y, tx, 1))"
   ]
  },
  {
   "cell_type": "code",
   "execution_count": 43,
   "metadata": {},
   "outputs": [],
   "source": [
    "def ridge_regression_demo(x, y, degree, ratio, seed):\n",
    "    \"\"\"ridge regression demo.\"\"\"\n",
    "    # define parameter\n",
    "    lambdas = np.logspace(-5, 0, 15)\n",
    "    # ***************************************************\n",
    "    trainx,trainy,testx,testy = split_data(x, y, ratio)\n",
    "    # ***************************************************\n",
    "    #raise NotImplementedError\n",
    "    # ***************************************************\n",
    "    phitrain = build_poly(trainx, degree)\n",
    "    phitest = build_poly(testx, degree)\n",
    "    # ***************************************************\n",
    "    #raise NotImplementedError\n",
    "\n",
    "    rmse_tr = []\n",
    "    rmse_te = []\n",
    "    for ind, lambda_ in enumerate(lambdas):\n",
    "        # ***************************************************\n",
    "        mse, weights = ridge_regression(trainy, phitrain, lambda_)\n",
    "        print(mse)\n",
    "        rmse_tr.append(np.sqrt(2*mse))\n",
    "        rmse_te.append(np.sqrt(2*compute_loss(testy, phitest, weights)))\n",
    "        # ***************************************************\n",
    "        print(\"proportion={p}, degree={d}, lambda={l:.3f}, Training RMSE={tr:.3f}, Testing RMSE={te:.3f}\".format(\n",
    "               p=ratio, d=degree, l=lambda_, tr=rmse_tr[ind], te=rmse_te[ind]))\n",
    "        \n",
    "    # Plot the obtained results\n",
    "    plot_train_test(rmse_tr, rmse_te, lambdas, degree)\n",
    "\n",
    "    #raise NotImplementedError\n"
   ]
  },
  {
   "cell_type": "code",
   "execution_count": 44,
   "metadata": {},
   "outputs": [
    {
     "name": "stdout",
     "output_type": "stream",
     "text": [
      "14.906868621920271\n",
      "proportion=0.5, degree=7, lambda=0.000, Training RMSE=5.460, Testing RMSE=5.492\n",
      "14.906868621920422\n",
      "proportion=0.5, degree=7, lambda=0.000, Training RMSE=5.460, Testing RMSE=5.492\n",
      "14.906868621921197\n",
      "proportion=0.5, degree=7, lambda=0.000, Training RMSE=5.460, Testing RMSE=5.492\n",
      "14.906868621925208\n",
      "proportion=0.5, degree=7, lambda=0.000, Training RMSE=5.460, Testing RMSE=5.492\n",
      "14.906868621945987\n",
      "proportion=0.5, degree=7, lambda=0.000, Training RMSE=5.460, Testing RMSE=5.492\n",
      "14.90686862205361\n",
      "proportion=0.5, degree=7, lambda=0.001, Training RMSE=5.460, Testing RMSE=5.492\n",
      "14.906868622611045\n",
      "proportion=0.5, degree=7, lambda=0.001, Training RMSE=5.460, Testing RMSE=5.492\n",
      "14.906868625498227\n",
      "proportion=0.5, degree=7, lambda=0.003, Training RMSE=5.460, Testing RMSE=5.492\n",
      "14.906868640452036\n",
      "proportion=0.5, degree=7, lambda=0.007, Training RMSE=5.460, Testing RMSE=5.492\n",
      "14.906868717901549\n",
      "proportion=0.5, degree=7, lambda=0.016, Training RMSE=5.460, Testing RMSE=5.492\n",
      "14.906869119009619\n",
      "proportion=0.5, degree=7, lambda=0.037, Training RMSE=5.460, Testing RMSE=5.492\n",
      "14.906871196070503\n",
      "proportion=0.5, degree=7, lambda=0.085, Training RMSE=5.460, Testing RMSE=5.492\n",
      "14.906881948640052\n",
      "proportion=0.5, degree=7, lambda=0.193, Training RMSE=5.460, Testing RMSE=5.492\n",
      "14.906937576407906\n",
      "proportion=0.5, degree=7, lambda=0.439, Training RMSE=5.460, Testing RMSE=5.492\n",
      "14.907224937059533\n",
      "proportion=0.5, degree=7, lambda=1.000, Training RMSE=5.460, Testing RMSE=5.492\n"
     ]
    },
    {
     "data": {
      "image/png": "[encoded data removed]",
      "text/plain": [
       "<Figure size 432x288 with 1 Axes>"
      ]
     },
     "metadata": {
      "needs_background": "light"
     },
     "output_type": "display_data"
    }
   ],
   "source": [
    "seed = 56\n",
    "degree = 7\n",
    "split_ratio = 0.5\n",
    "ridge_regression_demo(x, y, degree, split_ratio, seed)"
   ]
  },
  {
   "cell_type": "code",
   "execution_count": null,
   "metadata": {},
   "outputs": [],
   "source": []
  },
  {
   "cell_type": "code",
   "execution_count": null,
   "metadata": {},
   "outputs": [],
   "source": []
  }
 ],
 "metadata": {
  "anaconda-cloud": {},
  "kernelspec": {
   "display_name": "Python 3",
   "language": "python",
   "name": "python3"
  },
  "language_info": {
   "codemirror_mode": {
    "name": "ipython",
    "version": 3
   },
   "file_extension": ".py",
   "mimetype": "text/x-python",
   "name": "python",
   "nbconvert_exporter": "python",
   "pygments_lexer": "ipython3",
   "version": "3.7.3"
  }
 },
 "nbformat": 4,
 "nbformat_minor": 1
}
