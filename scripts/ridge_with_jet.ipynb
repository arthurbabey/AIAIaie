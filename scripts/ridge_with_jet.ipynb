{
 "cells": [
  {
   "cell_type": "code",
   "execution_count": null,
   "metadata": {},
   "outputs": [],
   "source": [
    "# Useful starting lines\n",
    "%matplotlib inline\n",
    "import numpy as np\n",
    "import pandas as pd\n",
    "import matplotlib.pyplot as plt\n",
    "import math as m\n",
    "from ridge_regression import *\n",
    "from preprocessing import *\n",
    "from plots import *\n",
    "from crossval import *\n",
    "%load_ext autoreload\n",
    "%autoreload 2"
   ]
  },
  {
   "cell_type": "code",
   "execution_count": null,
   "metadata": {},
   "outputs": [],
   "source": [
    "from proj1_helpers import *\n",
    "DATA_TRAIN_PATH = '/Users/arthurbabey/Documents/master2/ML/ML_course/projects/project1/data/train.csv'\n",
    "y, tX, ids_train = load_csv_data(DATA_TRAIN_PATH)\n",
    "DATA_TRAIN_PATH = '/Users/arthurbabey/Documents/master2/ML/ML_course/projects/project1/data/test.csv'\n",
    "ytest, tXtest, ids_test = load_csv_data(DATA_TRAIN_PATH)"
   ]
  },
  {
   "cell_type": "code",
   "execution_count": null,
   "metadata": {},
   "outputs": [],
   "source": [
    "from sklearn import preprocessing"
   ]
  },
  {
   "cell_type": "code",
   "execution_count": null,
   "metadata": {},
   "outputs": [],
   "source": [
    "def preprocess_(tX, y, threshold):\n",
    "    Data = remove_features_with_too_many_missing_values(tX,threshold)\n",
    "    Data = replace_nan(Data)\n",
    "    ZData = preprocessing.scale(Data)\n",
    "    y[y == -1] = 0\n",
    "    return ZData, y"
   ]
  },
  {
   "cell_type": "code",
   "execution_count": null,
   "metadata": {},
   "outputs": [],
   "source": []
  },
  {
   "cell_type": "code",
   "execution_count": null,
   "metadata": {},
   "outputs": [],
   "source": [
    "for jet in range(4):\n",
    "    \n",
    "        if jet == 0:\n",
    "            tx_0_train = tX[tX[:, 22] == jet]\n",
    "            tx_0_test = tXtest[tXtest[:, 22] == jet]\n",
    "        \n",
    "            y_0_train = y[tX[:, 22] == jet]\n",
    "            y_0_test = ytest[tXtest[:, 22] == jet]\n",
    "            \n",
    "            #for i in range(0,len(tx_0_train[0,:])):       \n",
    "            #    tx_0_train[i,:][np.isnan(tx_0_train[i,:])] = np.mean(tx[i,:])\n",
    "            \n",
    "            #print(tx_0_train)\n",
    "            tx_0_train = np.delete(tx_0_train, 22, 1)\n",
    "            tx_0_test = np.delete(tx_0_test, 22, 1) \n",
    "            \n",
    "            tx_0_train, y_0_train = preprocess_(tx_0_train, y_0_train, 0.66)\n",
    "            tx_0_test, y_0_test = preprocess_(tx_0_test, y_0_test, 0.66)\n",
    "            \n",
    "            #where_are_NaNs = np.isnan(tx_0_train)\n",
    "            #tx_0_train[where_are_NaNs] = 0\n",
    "\n",
    "            #where_are_NaNs = np.isnan(tx_0_test)\n",
    "            #tx_0_test[where_are_NaNs] = 0 \n",
    "            \n",
    "            ids_0_train = ids_train[tX[:, 22] == jet]\n",
    "            ids_0_test = ids_test[tXtest[:, 22] == jet]\n",
    "        \n",
    "        if jet == 1:\n",
    "            tx_1_train = tX[tX[:, 22] == jet]\n",
    "            tx_1_test = tXtest[tXtest[:, 22] == jet]\n",
    "        \n",
    "            y_1_train = y[tX[:, 22] == jet]\n",
    "            y_1_test = ytest[tXtest[:, 22] == jet]\n",
    "            \n",
    "            tx_1_train = np.delete(tx_1_train, 22, 1)\n",
    "            tx_1_test = np.delete(tx_1_test, 22, 1)             \n",
    "            \n",
    "            tx_1_train, y_1_train = preprocess_(tx_1_train, y_1_train, 0.66)\n",
    "            tx_1_test, y_1_test = preprocess_(tx_1_test, y_1_test, 0.66)\n",
    "                        \n",
    "            ids_1_train = ids_train[tX[:, 22] == jet]\n",
    "            ids_1_test = ids_test[tXtest[:, 22] == jet]\n",
    "            \n",
    "            \n",
    "        if jet == 2:\n",
    "            tx_2_train = tX[tX[:, 22] == jet]\n",
    "            tx_2_test = tXtest[tXtest[:, 22] == jet]\n",
    "        \n",
    "            y_2_train = y[tX[:, 22] == jet]\n",
    "            y_2_test = ytest[tXtest[:, 22] == jet]\n",
    "            \n",
    "            tx_2_train = np.delete(tx_2_train, 22, 1)\n",
    "            tx_2_test = np.delete(tx_2_test, 22, 1)             \n",
    "            \n",
    "            tx_2_train, y_2_train = preprocess_(tx_2_train, y_2_train, 0.66)\n",
    "            tx_2_test, y_2_test = preprocess_(tx_2_test, y_2_test, 0.66)\n",
    "\n",
    "            \n",
    "            ids_2_train = ids_train[tX[:, 22] == jet]\n",
    "            ids_2_test = ids_test[tXtest[:, 22] == jet]            \n",
    "            \n",
    "        if jet == 3:\n",
    "            tx_3_train = tX[tX[:, 22] == jet]\n",
    "            tx_3_test = tXtest[tXtest[:, 22] == jet]\n",
    "        \n",
    "            y_3_train = y[tX[:, 22] == jet]\n",
    "            y_3_test = ytest[tXtest[:, 22] == jet]\n",
    "            \n",
    "            tx_3_train = np.delete(tx_3_train, 22, 1)\n",
    "            tx_3_test = np.delete(tx_3_test, 22, 1)             \n",
    "            \n",
    "            tx_3_train, y_3_train = preprocess_(tx_3_train, y_3_train, 0.66)\n",
    "            tx_3_test, y_3_test = preprocess_(tx_3_test, y_3_test, 0.66)\n",
    "            \n",
    "            \n",
    "            ids_3_train = ids_train[tX[:, 22] == jet]\n",
    "            ids_3_test = ids_test[tXtest[:, 22] == jet]            "
   ]
  },
  {
   "cell_type": "code",
   "execution_count": null,
   "metadata": {},
   "outputs": [],
   "source": [
    "datatrain = [[tx_0_train, y_0_train, tx_0_test, y_0_test, ids_0_train, ids_0_test ], \n",
    "             [tx_1_train, y_1_train, tx_1_test, y_1_test, ids_1_train, ids_1_test], \n",
    "             [tx_2_train, y_2_train, tx_2_test, y_2_test, ids_2_train, ids_2_test], \n",
    "             [tx_3_train, y_3_train, tx_3_test, y_3_test, ids_3_train, ids_3_test]]"
   ]
  },
  {
   "cell_type": "code",
   "execution_count": null,
   "metadata": {},
   "outputs": [],
   "source": [
    "max_iters = 10000\n",
    "threshold = 1e-7\n",
    "gamma = 0.05\n",
    "lambda_ = 0.1\n",
    "\n",
    "AUS = []\n",
    "ids_pred = []\n",
    "y_preds = []\n",
    "#weights = np.zeros(568238)\n",
    "\n",
    "for txx, yy, txt, yt, idtr, idt in datatrain:\n",
    "    #i = len(tx[0,:]) + 1\n",
    "    #w = np.zeros(i)\n",
    "    #weight = logistic_regression(yy, txx, max_iters, w, gamma, threshold)\n",
    "\n",
    "    weight = ridge_regression(yy, txx, lambda_)\n",
    "    #weights = np.append(weights, weight)\n",
    " \n",
    "    AU = (predict_labels(weight, txt))\n",
    "    AUS = np.append(AUS, AU)\n",
    "\n",
    "    y_pred = (predict_labels(weight, txt))\n",
    "    #y_pred = np.array((np.asarray(y_pred), idt))\n",
    "    y_preds = np.append(y_preds, y_pred)\n",
    "    ids_pred = np.append(ids_pred,idt)\n",
    "    \n",
    "    \n",
    "    \n",
    "    \n",
    "#pred = np.concatenate((y_preds[0], y_preds[2], y_preds[4], y_preds[6]), axis=0)\n",
    "#print(pred.shape)\n",
    "#ids_pred = np.concatenate((y_preds[1], y_preds[3], y_preds[5], y_preds[7]), axis=0)\n",
    "\n",
    "order = ids_pred.argsort()\n",
    "ids_pred = ids_pred[order]\n",
    "y_preds = y_preds[order]\n",
    "    "
   ]
  },
  {
   "cell_type": "code",
   "execution_count": null,
   "metadata": {},
   "outputs": [],
   "source": [
    "create_csv_submission(idstest, y_preds, 'ridgejetN.csv')"
   ]
  },
  {
   "cell_type": "code",
   "execution_count": null,
   "metadata": {},
   "outputs": [],
   "source": []
  },
  {
   "cell_type": "code",
   "execution_count": null,
   "metadata": {},
   "outputs": [],
   "source": []
  }
 ],
 "metadata": {
  "kernelspec": {
   "display_name": "Python 3",
   "language": "python",
   "name": "python3"
  },
  "language_info": {
   "codemirror_mode": {
    "name": "ipython",
    "version": 3
   },
   "file_extension": ".py",
   "mimetype": "text/x-python",
   "name": "python",
   "nbconvert_exporter": "python",
   "pygments_lexer": "ipython3",
   "version": "3.7.3"
  }
 },
 "nbformat": 4,
 "nbformat_minor": 2
}
