{
 "cells": [
  {
   "cell_type": "code",
   "execution_count": 1,
   "metadata": {},
   "outputs": [],
   "source": [
    "from proj1_helpers import *\n",
    "from create_data_with_jet import *\n",
    "DATA_TRAIN_PATH = '/Users/arthurbabey/Documents/master2/ML/ML_course/projects/project1/data/train.csv'\n",
    "y, tX, ids_train = load_csv_data(DATA_TRAIN_PATH)\n",
    "DATA_TRAIN_PATH = '/Users/arthurbabey/Documents/master2/ML/ML_course/projects/project1/data/test.csv'\n",
    "ytest, tXtest, ids_test = load_csv_data(DATA_TRAIN_PATH)"
   ]
  },
  {
   "cell_type": "code",
   "execution_count": 4,
   "metadata": {},
   "outputs": [],
   "source": [
    "data_jet = create_data_with_jet(tX,y, ids_train, tXtest, ytest, ids_test)\n",
    "#function qui sépare tout le dataset par jet_num"
   ]
  },
  {
   "cell_type": "code",
   "execution_count": 6,
   "metadata": {},
   "outputs": [],
   "source": [
    "max_iters = 10000\n",
    "threshold = 1e-7\n",
    "gamma = 0.05\n",
    "lambda_ = 0.1\n",
    "\n",
    "AUS = []\n",
    "ids_pred = []\n",
    "y_preds = []\n",
    "#weights = np.zeros(568238)\n",
    "\n",
    "#manière de faire pour avoir des predictions avec data_jet\n",
    "\n",
    "for txx, yy, txt, yt, idtr, idt in data_jet:\n",
    "    #i = len(tx[0,:]) + 1\n",
    "    #w = np.zeros(i)\n",
    "    #weight = logistic_regression(yy, txx, max_iters, w, gamma, threshold)\n",
    "\n",
    "    weight = ridge_regression(yy, txx, lambda_)\n",
    "    #weights = np.append(weights, weight)\n",
    " \n",
    "    AU = (predict_labels(weight, txt))\n",
    "    AUS = np.append(AUS, AU)\n",
    "\n",
    "    y_pred = (predict_labels(weight, txt))\n",
    "    #y_pred = np.array((np.asarray(y_pred), idt))\n",
    "    y_preds = np.append(y_preds, y_pred)\n",
    "    ids_pred = np.append(ids_pred,idt)\n",
    "    \n",
    "    \n",
    "    \n",
    "    \n",
    "#pred = np.concatenate((y_preds[0], y_preds[2], y_preds[4], y_preds[6]), axis=0)\n",
    "#print(pred.shape)\n",
    "#ids_pred = np.concatenate((y_preds[1], y_preds[3], y_preds[5], y_preds[7]), axis=0)\n",
    "\n",
    "order = ids_pred.argsort()\n",
    "ids_pred = ids_pred[order]\n",
    "y_preds = y_preds[order]\n",
    "    "
   ]
  },
  {
   "cell_type": "code",
   "execution_count": 8,
   "metadata": {},
   "outputs": [],
   "source": [
    "create_csv_submission(ids_test, y_preds, 'ridgejetN.csv')"
   ]
  },
  {
   "cell_type": "code",
   "execution_count": null,
   "metadata": {},
   "outputs": [],
   "source": []
  },
  {
   "cell_type": "code",
   "execution_count": null,
   "metadata": {},
   "outputs": [],
   "source": []
  }
 ],
 "metadata": {
  "kernelspec": {
   "display_name": "Python 3",
   "language": "python",
   "name": "python3"
  },
  "language_info": {
   "codemirror_mode": {
    "name": "ipython",
    "version": 3
   },
   "file_extension": ".py",
   "mimetype": "text/x-python",
   "name": "python",
   "nbconvert_exporter": "python",
   "pygments_lexer": "ipython3",
   "version": "3.7.3"
  }
 },
 "nbformat": 4,
 "nbformat_minor": 2
}
